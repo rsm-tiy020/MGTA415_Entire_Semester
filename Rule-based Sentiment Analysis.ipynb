{
 "cells": [
  {
   "cell_type": "markdown",
   "metadata": {},
   "source": [
    "### VADER (Valence Aware Dictionary and sEntiment Reasoner)\n",
    "\n",
    "- A sentiment lexicon started with over 9,000 features (words, expressions, emojis)\n",
    "- Rated on a scale of -4 to +4, from most negative to most positive. "
   ]
  },
  {
   "cell_type": "code",
   "execution_count": 2,
   "metadata": {},
   "outputs": [],
   "source": [
    "from vaderSentiment.vaderSentiment import SentimentIntensityAnalyzer\n",
    "\n",
    "sentiment_analyzer = SentimentIntensityAnalyzer()\n"
   ]
  },
  {
   "cell_type": "code",
   "execution_count": 3,
   "metadata": {},
   "outputs": [
    {
     "data": {
      "text/plain": [
       "0.8"
      ]
     },
     "execution_count": 3,
     "metadata": {},
     "output_type": "execute_result"
    }
   ],
   "source": [
    "token_scores = sentiment_analyzer.lexicon\n",
    "token_scores['adorned']"
   ]
  },
  {
   "cell_type": "code",
   "execution_count": 9,
   "metadata": {},
   "outputs": [
    {
     "name": "stdout",
     "output_type": "stream",
     "text": [
      "7506\n"
     ]
    }
   ],
   "source": [
    "print(len(token_scores))"
   ]
  },
  {
   "cell_type": "code",
   "execution_count": 11,
   "metadata": {},
   "outputs": [
    {
     "name": "stdout",
     "output_type": "stream",
     "text": [
      "[('rapist', -3.9), ('raping', -3.8), ('slavery', -3.8), ('fu', -3.7), ('kill', -3.7), ('murder', -3.7), ('rape', -3.7), ('terrorist', -3.7), ('hatefulness', -3.6), ('hell', -3.6)]\n",
      "[('perfectly', 3.2), ('hearts', 3.3), ('lya', 3.3), ('ecstacy', 3.3), ('euphoria', 3.3), ('sweetheart', 3.3), ('aml', 3.4), ('ilu', 3.4), ('ily', 3.4), ('magnificently', 3.4)]\n"
     ]
    }
   ],
   "source": [
    "sorted_scores = list(token_scores.items())\n",
    "sorted_scores.sort(key = lambda x : x[1])\n",
    "print(sorted_scores[:10])\n",
    "print(sorted_scores[-10:])"
   ]
  },
  {
   "cell_type": "code",
   "execution_count": 13,
   "metadata": {},
   "outputs": [
    {
     "name": "stdout",
     "output_type": "stream",
     "text": [
      "[('(-:{', -0.1), ('2g2bt', -0.1), ('btdt', -0.1), ('adversatively', -0.1), ('agitato', -0.1), ('amazons', -0.1), ('amortize', -0.1), ('awaited', -0.1), ('bashful', -0.1), ('battleship', -0.1), ('boldfaced', -0.1), ('borescopes', -0.1), ('champer', -0.1), ('champerties', -0.1), ('chilling', -0.1), ('crazier', -0.1), ('creditor', -0.1), ('dominances', -0.1), ('dumbfound', -0.1), ('dumbwaiters', -0.1), ('dwells', -0.1), ('feudalizes', -0.1), ('feudatory', -0.1), ('flirtations', -0.1), ('flirtatiously', -0.1), ('flirtier', -0.1), ('foetal', -0.1), ('freebase', -0.1), ('freeloaders', -0.1), ('freezers', -0.1), ('freezes', -0.1), ('fumes', -0.1), ('funneling', -0.1), ('funnelled', -0.1), ('geekiest', -0.1), ('grossularite', -0.1), ('hysterical', -0.1), ('joypoppers', -0.1), ('killdeers', -0.1), ('killie', -0.1), ('killifish', -0.1), ('killifishes', -0.1), ('lamella', -0.1), ('lamellae', -0.1), ('lamellibranchs', -0.1), ('longing', -0.1), ('lowland', -0.1), ('lowlands', -0.1), ('nerdish', -0.1), ('o_0', -0.1)]\n"
     ]
    }
   ],
   "source": [
    "sorted_scores.sort(key = lambda x : abs(x[1]))\n",
    "print(sorted_scores[:50])"
   ]
  },
  {
   "cell_type": "markdown",
   "metadata": {},
   "source": [
    "#### Rule-based Sentiment Analysis\n",
    "\n",
    "- This could be viewed as a way to generate weak supervision"
   ]
  },
  {
   "cell_type": "code",
   "execution_count": 18,
   "metadata": {},
   "outputs": [
    {
     "data": {
      "text/plain": [
       "{'neg': 0.636, 'neu': 0.364, 'pos': 0.0, 'compound': -0.5423}"
      ]
     },
     "execution_count": 18,
     "metadata": {},
     "output_type": "execute_result"
    }
   ],
   "source": [
    "sentiment_analyzer.polarity_scores('I feel bad')"
   ]
  },
  {
   "cell_type": "code",
   "execution_count": 22,
   "metadata": {},
   "outputs": [
    {
     "data": {
      "text/plain": [
       "'positive'"
      ]
     },
     "execution_count": 22,
     "metadata": {},
     "output_type": "execute_result"
    }
   ],
   "source": [
    "def get_polarity_label(sentence):\n",
    "    score = sentiment_analyzer.polarity_scores(sentence)\n",
    "    neg, neu, pos = score['neg'], score['neu'], score['pos']\n",
    "    if pos > neg and pos > neu:\n",
    "        return 'positive'\n",
    "    if neg > pos and neg > neu:\n",
    "        return 'negative'\n",
    "    return 'neutral'\n",
    "\n",
    "get_polarity_label('I feel good')"
   ]
  },
  {
   "cell_type": "code",
   "execution_count": 23,
   "metadata": {},
   "outputs": [
    {
     "data": {
      "text/plain": [
       "'negative'"
      ]
     },
     "execution_count": 23,
     "metadata": {},
     "output_type": "execute_result"
    }
   ],
   "source": [
    "get_polarity_label('I feel bad')"
   ]
  },
  {
   "cell_type": "code",
   "execution_count": 24,
   "metadata": {},
   "outputs": [
    {
     "data": {
      "text/plain": [
       "'negative'"
      ]
     },
     "execution_count": 24,
     "metadata": {},
     "output_type": "execute_result"
    }
   ],
   "source": [
    "get_polarity_label('I feel sad')"
   ]
  },
  {
   "cell_type": "code",
   "execution_count": 27,
   "metadata": {},
   "outputs": [
    {
     "data": {
      "text/plain": [
       "'neutral'"
      ]
     },
     "execution_count": 27,
     "metadata": {},
     "output_type": "execute_result"
    }
   ],
   "source": [
    "get_polarity_label('I like this movie but it is a bit pricy')"
   ]
  }
 ],
 "metadata": {
  "kernelspec": {
   "display_name": "Python 3",
   "language": "python",
   "name": "python3"
  },
  "language_info": {
   "codemirror_mode": {
    "name": "ipython",
    "version": 3
   },
   "file_extension": ".py",
   "mimetype": "text/x-python",
   "name": "python",
   "nbconvert_exporter": "python",
   "pygments_lexer": "ipython3",
   "version": "3.9.2"
  }
 },
 "nbformat": 4,
 "nbformat_minor": 4
}
