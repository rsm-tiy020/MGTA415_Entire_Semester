{
 "cells": [
  {
   "cell_type": "code",
   "execution_count": 1,
   "metadata": {},
   "outputs": [],
   "source": [
    "from keras.datasets import mnist\n",
    "\n",
    "# loading the dataset\n",
    "(X_train, y_train), (X_test, y_test) = mnist.load_data()\n",
    "# let's print the shape of the dataset"
   ]
  },
  {
   "cell_type": "code",
   "execution_count": 2,
   "metadata": {},
   "outputs": [
    {
     "name": "stdout",
     "output_type": "stream",
     "text": [
      "X_train shape (60000, 28, 28)\n",
      "y_train shape (60000,)\n",
      "X_test shape (10000, 28, 28)\n",
      "y_test shape (10000,)\n"
     ]
    }
   ],
   "source": [
    "print(\"X_train shape\", X_train.shape)\n",
    "print(\"y_train shape\", y_train.shape)\n",
    "print(\"X_test shape\", X_test.shape)\n",
    "print(\"y_test shape\", y_test.shape)"
   ]
  },
  {
   "cell_type": "code",
   "execution_count": 3,
   "metadata": {},
   "outputs": [],
   "source": [
    "# normalizing the data to help with the training\n",
    "X_train = X_train / 255\n",
    "X_test = X_test / 255"
   ]
  },
  {
   "cell_type": "code",
   "execution_count": 11,
   "metadata": {},
   "outputs": [
    {
     "data": {
      "text/plain": [
       "<matplotlib.image.AxesImage at 0x149d7c790>"
      ]
     },
     "execution_count": 11,
     "metadata": {},
     "output_type": "execute_result"
    },
    {
     "data": {
      "image/png": "[encoded data removed]",
      "text/plain": [
       "<Figure size 432x288 with 1 Axes>"
      ]
     },
     "metadata": {
      "needs_background": "light"
     },
     "output_type": "display_data"
    }
   ],
   "source": [
    "import matplotlib.pyplot as plt\n",
    "\n",
    "index = 2\n",
    "plt.title('target class = ' + str(y_train[index]))\n",
    "plt.imshow(X_train[index], cmap = 'gray')"
   ]
  },
  {
   "cell_type": "code",
   "execution_count": 12,
   "metadata": {
    "scrolled": true
   },
   "outputs": [
    {
     "name": "stdout",
     "output_type": "stream",
     "text": [
      "(28, 28)\n"
     ]
    }
   ],
   "source": [
    "print(X_train[0].shape)"
   ]
  },
  {
   "cell_type": "markdown",
   "metadata": {},
   "source": [
    "### reshape images to n * h * w * # of channels"
   ]
  },
  {
   "cell_type": "code",
   "execution_count": 13,
   "metadata": {},
   "outputs": [],
   "source": [
    "# building the input vector from the 28x28 pixels\n",
    "X_train = X_train.reshape(X_train.shape[0], 28, 28, 1)\n",
    "X_test = X_test.reshape(X_test.shape[0], 28, 28, 1)\n",
    "X_train = X_train.astype('float32')\n",
    "X_test = X_test.astype('float32')"
   ]
  },
  {
   "cell_type": "markdown",
   "metadata": {},
   "source": [
    "### reshape y_i to y_{i, j}"
   ]
  },
  {
   "cell_type": "code",
   "execution_count": 14,
   "metadata": {},
   "outputs": [
    {
     "name": "stdout",
     "output_type": "stream",
     "text": [
      "Shape before one-hot encoding:  (60000,)\n",
      "Shape after one-hot encoding:  (60000, 10)\n"
     ]
    }
   ],
   "source": [
    "from keras.utils import np_utils\n",
    "\n",
    "# one-hot encoding using keras' numpy-related utilities\n",
    "n_classes = 10\n",
    "print(\"Shape before one-hot encoding: \", y_train.shape)\n",
    "Y_train = np_utils.to_categorical(y_train, n_classes)\n",
    "Y_test = np_utils.to_categorical(y_test, n_classes)\n",
    "print(\"Shape after one-hot encoding: \", Y_train.shape)"
   ]
  },
  {
   "cell_type": "code",
   "execution_count": 16,
   "metadata": {},
   "outputs": [
    {
     "data": {
      "text/plain": [
       "array([0., 0., 0., 0., 0., 1., 0., 0., 0., 0.], dtype=float32)"
      ]
     },
     "execution_count": 16,
     "metadata": {},
     "output_type": "execute_result"
    }
   ],
   "source": [
    "Y_train[0]"
   ]
  },
  {
   "cell_type": "markdown",
   "metadata": {},
   "source": [
    "### Outline the convolutional neural network"
   ]
  },
  {
   "cell_type": "code",
   "execution_count": 20,
   "metadata": {},
   "outputs": [],
   "source": [
    "from keras.models import Sequential\n",
    "from keras.layers import Dense, Dropout, Conv2D, MaxPool2D, Flatten\n",
    "\n",
    "# building a linear stack of layers with the sequential model\n",
    "model = Sequential()\n",
    "# convolutional layer\n",
    "model.add(Conv2D(25, kernel_size=(3,3), strides=(1,1), padding='valid', activation='relu', input_shape=(28,28,1)))\n",
    "model.add(MaxPool2D(pool_size=(1,1)))\n",
    "# flatten output of conv\n",
    "model.add(Flatten())\n",
    "# hidden layer\n",
    "model.add(Dense(100, activation='relu'))\n",
    "# output layer\n",
    "model.add(Dense(10, activation='softmax'))\n",
    "\n",
    "# compiling the sequential model\n",
    "model.compile(loss='categorical_crossentropy', metrics=['accuracy'], optimizer='adam')"
   ]
  },
  {
   "cell_type": "code",
   "execution_count": 21,
   "metadata": {
    "scrolled": true
   },
   "outputs": [
    {
     "name": "stdout",
     "output_type": "stream",
     "text": [
      "Epoch 1/10\n",
      "469/469 [==============================] - 21s 45ms/step - loss: 0.1894 - accuracy: 0.9447 - val_loss: 0.0722 - val_accuracy: 0.9778\n",
      "Epoch 2/10\n",
      "469/469 [==============================] - 21s 44ms/step - loss: 0.0601 - accuracy: 0.9822 - val_loss: 0.0581 - val_accuracy: 0.9810\n",
      "Epoch 3/10\n",
      "469/469 [==============================] - 23s 49ms/step - loss: 0.0360 - accuracy: 0.9890 - val_loss: 0.0588 - val_accuracy: 0.9805\n",
      "Epoch 4/10\n",
      "469/469 [==============================] - 28s 61ms/step - loss: 0.0224 - accuracy: 0.9934 - val_loss: 0.0542 - val_accuracy: 0.9828\n",
      "Epoch 5/10\n",
      "469/469 [==============================] - 22s 47ms/step - loss: 0.0159 - accuracy: 0.9951 - val_loss: 0.0502 - val_accuracy: 0.9844\n",
      "Epoch 6/10\n",
      "469/469 [==============================] - 22s 46ms/step - loss: 0.0085 - accuracy: 0.9977 - val_loss: 0.0519 - val_accuracy: 0.9850\n",
      "Epoch 7/10\n",
      "469/469 [==============================] - 22s 46ms/step - loss: 0.0077 - accuracy: 0.9977 - val_loss: 0.0539 - val_accuracy: 0.9842\n",
      "Epoch 8/10\n",
      "469/469 [==============================] - 23s 48ms/step - loss: 0.0072 - accuracy: 0.9979 - val_loss: 0.0670 - val_accuracy: 0.9830\n",
      "Epoch 9/10\n",
      "469/469 [==============================] - 22s 47ms/step - loss: 0.0066 - accuracy: 0.9979 - val_loss: 0.0562 - val_accuracy: 0.9848\n",
      "Epoch 10/10\n",
      "469/469 [==============================] - 22s 47ms/step - loss: 0.0030 - accuracy: 0.9993 - val_loss: 0.0548 - val_accuracy: 0.9868\n"
     ]
    },
    {
     "data": {
      "text/plain": [
       "<tensorflow.python.keras.callbacks.History at 0x14c4a6c50>"
      ]
     },
     "execution_count": 21,
     "metadata": {},
     "output_type": "execute_result"
    }
   ],
   "source": [
    "# training the model for 10 epochs\n",
    "model.fit(X_train, Y_train, batch_size=128, epochs=10, validation_data=(X_test, Y_test))"
   ]
  },
  {
   "cell_type": "code",
   "execution_count": null,
   "metadata": {},
   "outputs": [],
   "source": [
    "### 60000 / 128 = 469"
   ]
  },
  {
   "cell_type": "code",
   "execution_count": 22,
   "metadata": {},
   "outputs": [],
   "source": [
    "pred = model.predict(X_test)"
   ]
  },
  {
   "cell_type": "code",
   "execution_count": 23,
   "metadata": {},
   "outputs": [
    {
     "data": {
      "text/plain": [
       "(10000, 10)"
      ]
     },
     "execution_count": 23,
     "metadata": {},
     "output_type": "execute_result"
    }
   ],
   "source": [
    "pred.shape"
   ]
  },
  {
   "cell_type": "code",
   "execution_count": 25,
   "metadata": {},
   "outputs": [
    {
     "data": {
      "text/plain": [
       "<matplotlib.image.AxesImage at 0x167ee0150>"
      ]
     },
     "execution_count": 25,
     "metadata": {},
     "output_type": "execute_result"
    },
    {
     "data": {
      "image/png": "[encoded data removed]",
      "text/plain": [
       "<Figure size 432x288 with 1 Axes>"
      ]
     },
     "metadata": {
      "needs_background": "light"
     },
     "output_type": "display_data"
    }
   ],
   "source": [
    "index = 10\n",
    "\n",
    "import numpy as np\n",
    "pred_class = np.argmax(pred[index])\n",
    "\n",
    "plt.title('target class = ' + str(y_test[index]) + '/ pred class = ' + str(pred_class))\n",
    "\n",
    "\n",
    "plt.imshow(X_test[index].reshape(28, 28), cmap = 'gray')"
   ]
  },
  {
   "cell_type": "code",
   "execution_count": 33,
   "metadata": {
    "scrolled": false
   },
   "outputs": [
    {
     "name": "stdout",
     "output_type": "stream",
     "text": [
      "[247, 321, 340, 359, 381, 445, 582, 659, 717, 882, 883, 938, 939, 956, 1014, 1039, 1156, 1202, 1226, 1232, 1242, 1247, 1319, 1378, 1393, 1403, 1414, 1415, 1425, 1522, 1549, 1609, 1641, 1678, 1773, 1790, 1828, 1901, 1903, 2016, 2035, 2040, 2093, 2118, 2129, 2135, 2266, 2293, 2369, 2387, 2406, 2414, 2462, 2488, 2597, 2654, 2896, 2921, 2939, 2953, 3012, 3060, 3073, 3330, 3503, 3520, 3534, 3558, 3727, 3751, 3778, 3780, 3808, 3850, 3853, 3869, 3943, 4075, 4163, 4176, 4199, 4201, 4248, 4256, 4548, 4578, 4601, 4639, 4740, 4807, 4814, 4823, 4860, 5331, 5634, 5654, 5676, 5749, 5887, 5955, 5973, 6011, 6023, 6059, 6091, 6166, 6173, 6555, 6560, 6569, 6597, 6625, 6783, 8094, 8246, 8277, 8325, 8527, 9009, 9015, 9019, 9024, 9505, 9540, 9679, 9692, 9729, 9749, 9770, 9839, 9941, 9982]\n"
     ]
    }
   ],
   "source": [
    "diff_index = []\n",
    "for i in range(len(pred)):\n",
    "    if np.argmax(pred[i]) != np.argmax(Y_test[i]):\n",
    "        diff_index.append(i)\n",
    "print(diff_index)"
   ]
  },
  {
   "cell_type": "code",
   "execution_count": 34,
   "metadata": {},
   "outputs": [
    {
     "data": {
      "text/plain": [
       "<matplotlib.image.AxesImage at 0x150ea0c50>"
      ]
     },
     "execution_count": 34,
     "metadata": {},
     "output_type": "execute_result"
    },
    {
     "data": {
      "image/png": "[encoded data removed]",
      "text/plain": [
       "<Figure size 432x288 with 1 Axes>"
      ]
     },
     "metadata": {
      "needs_background": "light"
     },
     "output_type": "display_data"
    }
   ],
   "source": [
    "index = 247\n",
    "pred_class = np.argmax(pred[index])\n",
    "plt.title('target class = ' + str(y_test[index]) + '/ pred class = ' + str(pred_class))\n",
    "plt.imshow(X_test[index].reshape(28, 28), cmap = 'gray')"
   ]
  },
  {
   "cell_type": "code",
   "execution_count": 35,
   "metadata": {},
   "outputs": [
    {
     "data": {
      "text/plain": [
       "<matplotlib.image.AxesImage at 0x151017090>"
      ]
     },
     "execution_count": 35,
     "metadata": {},
     "output_type": "execute_result"
    },
    {
     "data": {
      "image/png": "[encoded data removed]",
      "text/plain": [
       "<Figure size 432x288 with 1 Axes>"
      ]
     },
     "metadata": {
      "needs_background": "light"
     },
     "output_type": "display_data"
    }
   ],
   "source": [
    "index = 8527\n",
    "pred_class = np.argmax(pred[index])\n",
    "plt.title('target class = ' + str(y_test[index]) + '/ pred class = ' + str(pred_class))\n",
    "plt.imshow(X_test[index].reshape(28, 28), cmap = 'gray')"
   ]
  },
  {
   "cell_type": "code",
   "execution_count": null,
   "metadata": {},
   "outputs": [],
   "source": []
  },
  {
   "cell_type": "code",
   "execution_count": null,
   "metadata": {},
   "outputs": [],
   "source": []
  },
  {
   "cell_type": "code",
   "execution_count": null,
   "metadata": {},
   "outputs": [],
   "source": []
  },
  {
   "cell_type": "code",
   "execution_count": null,
   "metadata": {},
   "outputs": [],
   "source": []
  }
 ],
 "metadata": {
  "kernelspec": {
   "display_name": "Python 3",
   "language": "python",
   "name": "python3"
  },
  "language_info": {
   "codemirror_mode": {
    "name": "ipython",
    "version": 3
   },
   "file_extension": ".py",
   "mimetype": "text/x-python",
   "name": "python",
   "nbconvert_exporter": "python",
   "pygments_lexer": "ipython3",
   "version": "3.9.2"
  }
 },
 "nbformat": 4,
 "nbformat_minor": 4
}
